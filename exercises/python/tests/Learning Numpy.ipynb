{
 "cells": [
  {
   "cell_type": "code",
   "execution_count": 1,
   "id": "88f98bc5-0dec-406c-890c-332b5b1e49d8",
   "metadata": {},
   "outputs": [],
   "source": [
    "%config InteractiveShell.ast_node_interactivity = 'all'"
   ]
  },
  {
   "cell_type": "code",
   "execution_count": 2,
   "id": "6af0a897-b2cc-4c1c-9fee-6e6219226cb6",
   "metadata": {},
   "outputs": [],
   "source": [
    "import numpy as np"
   ]
  },
  {
   "cell_type": "markdown",
   "id": "dd80649d-65ec-4227-9f9d-17dead121211",
   "metadata": {},
   "source": [
    "# Array creation\n",
    "\n",
    "Numpy arrays are n-dimensional arrays (**ndarray**) that contains the elements of the same dtype. The most frequent dtypes are **float**, **int**."
   ]
  },
  {
   "cell_type": "code",
   "execution_count": 3,
   "id": "95288723-2114-4c95-9926-014f0d11c083",
   "metadata": {},
   "outputs": [],
   "source": [
    "x = np.array([1, 2, 3], dtype=int)"
   ]
  },
  {
   "cell_type": "code",
   "execution_count": 4,
   "id": "d6f6bce5-0c46-4d7d-a2b4-3218847f3fa8",
   "metadata": {},
   "outputs": [
    {
     "data": {
      "text/plain": [
       "1"
      ]
     },
     "execution_count": 4,
     "metadata": {},
     "output_type": "execute_result"
    },
    {
     "data": {
      "text/plain": [
       "(3,)"
      ]
     },
     "execution_count": 4,
     "metadata": {},
     "output_type": "execute_result"
    },
    {
     "data": {
      "text/plain": [
       "dtype('int64')"
      ]
     },
     "execution_count": 4,
     "metadata": {},
     "output_type": "execute_result"
    }
   ],
   "source": [
    "x.ndim\n",
    "x.shape\n",
    "x.dtype"
   ]
  },
  {
   "cell_type": "code",
   "execution_count": 5,
   "id": "1241704f-1062-4d7a-bb7b-5e1417919585",
   "metadata": {},
   "outputs": [
    {
     "data": {
      "text/plain": [
       "1"
      ]
     },
     "execution_count": 5,
     "metadata": {},
     "output_type": "execute_result"
    },
    {
     "data": {
      "text/plain": [
       "(3,)"
      ]
     },
     "execution_count": 5,
     "metadata": {},
     "output_type": "execute_result"
    },
    {
     "data": {
      "text/plain": [
       "dtype('float64')"
      ]
     },
     "execution_count": 5,
     "metadata": {},
     "output_type": "execute_result"
    }
   ],
   "source": [
    "y = np.array([1, 2, 3], dtype=float)\n",
    "y.ndim\n",
    "y.shape\n",
    "y.dtype"
   ]
  },
  {
   "cell_type": "markdown",
   "id": "70d300e8-edb7-4090-8e45-59fc428b8774",
   "metadata": {},
   "source": [
    "Numpy arrays can have n-dimensions. We can construct simple 1-dimensional arrays i.e. vectors or 2-dimensional arrays i.e. matrices but also arrays with more dimensions."
   ]
  },
  {
   "cell_type": "code",
   "execution_count": 6,
   "id": "209490e4-f4c7-4bea-b4a4-03f56672ae4c",
   "metadata": {},
   "outputs": [
    {
     "data": {
      "text/plain": [
       "array([1, 2, 3])"
      ]
     },
     "execution_count": 6,
     "metadata": {},
     "output_type": "execute_result"
    },
    {
     "data": {
      "text/plain": [
       "1"
      ]
     },
     "execution_count": 6,
     "metadata": {},
     "output_type": "execute_result"
    }
   ],
   "source": [
    "v = np.array([1, 2, 3])\n",
    "v\n",
    "v.ndim"
   ]
  },
  {
   "cell_type": "code",
   "execution_count": 7,
   "id": "7e761d44-f518-484c-8431-1909e4312117",
   "metadata": {},
   "outputs": [
    {
     "data": {
      "text/plain": [
       "array([[1, 2, 3],\n",
       "       [4, 5, 6]])"
      ]
     },
     "execution_count": 7,
     "metadata": {},
     "output_type": "execute_result"
    },
    {
     "data": {
      "text/plain": [
       "2"
      ]
     },
     "execution_count": 7,
     "metadata": {},
     "output_type": "execute_result"
    },
    {
     "data": {
      "text/plain": [
       "(2, 3)"
      ]
     },
     "execution_count": 7,
     "metadata": {},
     "output_type": "execute_result"
    },
    {
     "data": {
      "text/plain": [
       "6"
      ]
     },
     "execution_count": 7,
     "metadata": {},
     "output_type": "execute_result"
    }
   ],
   "source": [
    "A = np.array([[1, 2, 3], [4, 5, 6]])\n",
    "A\n",
    "A.ndim # number of dimensions\n",
    "A.shape # number of elements along each dimension\n",
    "A.size # number of elements in total (product of size)"
   ]
  },
  {
   "cell_type": "code",
   "execution_count": 8,
   "id": "09439a82-0d41-4c14-9533-5ad8e6e37d1f",
   "metadata": {},
   "outputs": [
    {
     "data": {
      "text/plain": [
       "3"
      ]
     },
     "execution_count": 8,
     "metadata": {},
     "output_type": "execute_result"
    },
    {
     "data": {
      "text/plain": [
       "(2, 2, 3)"
      ]
     },
     "execution_count": 8,
     "metadata": {},
     "output_type": "execute_result"
    },
    {
     "data": {
      "text/plain": [
       "12"
      ]
     },
     "execution_count": 8,
     "metadata": {},
     "output_type": "execute_result"
    }
   ],
   "source": [
    "nd = np.array([\n",
    "    [\n",
    "        [1, 2, 3],\n",
    "        [4, 5, 6]\n",
    "    ],\n",
    "    [\n",
    "        [7, 8, 9],\n",
    "        [10, 11, 12]\n",
    "    ]\n",
    "])\n",
    "nd.ndim\n",
    "nd.shape\n",
    "nd.size"
   ]
  },
  {
   "cell_type": "markdown",
   "id": "927caedb-7db3-4cd2-8cd4-c0140f276945",
   "metadata": {},
   "source": [
    "To declare an array, use np.array([]). For 3-dimensional array, a good way of interpreting this object is to think of a list of matrices. The first dimension is when you choose the matrix you want to study in the list. The second dimension corresponds to the row of the matrix. The third dimension is the column of the matrix. For instance, to get the 2nd row, 3rd column of the 2nd matrix (A2[2, 3] = 12) you can write"
   ]
  },
  {
   "cell_type": "code",
   "execution_count": 9,
   "id": "8a73ed43-472e-468c-be80-4c8fa44e12cb",
   "metadata": {},
   "outputs": [
    {
     "data": {
      "text/plain": [
       "12"
      ]
     },
     "execution_count": 9,
     "metadata": {},
     "output_type": "execute_result"
    }
   ],
   "source": [
    "nd[1, 1, 2]"
   ]
  },
  {
   "cell_type": "markdown",
   "id": "c5aa3825-5870-47fb-86ea-0799f3a7a797",
   "metadata": {},
   "source": [
    "Here are some useful functions to create arrays:\n",
    "\n",
    "+ np.linspace(start, stop, num) ==> returns num elements evenly spaced between start and stop.\n",
    "+ np.reshape(a, newshape) ==> gives a new shape to an array without changing its data. The new shape should be compatible with the original shape (i.e. same size). If the newshape is an integer, then the result will be a 1-D array of that length. If it is a tuple, it specifies the length of each dimension. One shape dimension can be -1. In this case, the value is inferred from the length of the array and remaining dimensions.\n",
    "+ np.arange(start, stop, step) ==> returns evenly spaced values within a given interval \\[start, stop(. Contrary to np.linspace(.), this function does not include the stop value.\n",
    "+ np.zeros(shape) ==> returns a ndarray of zeros with specified shape.\n",
    "+ np.ones(shape) ==> same for ones.\n",
    "+ np.random.randint(low, high, shape) ==> If high is unspecified returns a ndarray of random integers between [0, low(. If high is specified between [low, high( (excluding high).\n",
    "+ np.random.rand(d0, d1, ...) ==> Create an array of the given shape (here not a tuple) and populate it with random samples from a uniform distribution over [0, 1)."
   ]
  },
  {
   "cell_type": "code",
   "execution_count": 10,
   "id": "792c9bc9-d056-4b0b-ab64-55a5df672f9c",
   "metadata": {},
   "outputs": [
    {
     "name": "stdout",
     "output_type": "stream",
     "text": [
      "3.086842231825315e-07 ; 0.9999972863071543 ; 0.5005174364890724\n"
     ]
    }
   ],
   "source": [
    "# Example of a 1000x1000 matrix in uniform distribution.\n",
    "A = np.random.rand(1000, 1000)\n",
    "print(np.min(A), np.max(A), np.mean(A), sep=' ; ')"
   ]
  },
  {
   "cell_type": "code",
   "execution_count": 11,
   "id": "b91c9196-4254-4a8e-81ab-eceb9e79fc79",
   "metadata": {},
   "outputs": [
    {
     "name": "stdout",
     "output_type": "stream",
     "text": [
      "1 ; 9 ; 5.00146\n"
     ]
    }
   ],
   "source": [
    "# Example of 1000x1000 matrix with integers between 1 (inclusive) and 10 (exclusive)\n",
    "A = np.random.randint(1, 10, (1000, 1000))\n",
    "print(np.min(A), np.max(A), np.mean(A), sep=' ; ')"
   ]
  },
  {
   "cell_type": "code",
   "execution_count": 12,
   "id": "7205d820-3508-45d5-b9b7-0b5b43fca8fb",
   "metadata": {},
   "outputs": [
    {
     "name": "stdout",
     "output_type": "stream",
     "text": [
      "0 ; 14 ; 7.007531\n"
     ]
    }
   ],
   "source": [
    "# Example of 1000x1000 matrix with integers between 0 (inclusive) and 15 (exclusive)\n",
    "A = np.random.randint(low=15, size=(1000, 1000))\n",
    "print(np.min(A), np.max(A), np.mean(A), sep=' ; ')"
   ]
  },
  {
   "cell_type": "code",
   "execution_count": 13,
   "id": "83292fb2-b854-43d9-b485-6a917c2dc876",
   "metadata": {},
   "outputs": [
    {
     "name": "stdout",
     "output_type": "stream",
     "text": [
      "0.0 ; 10.0 ; 1000\n"
     ]
    }
   ],
   "source": [
    "# Example of vectors of 1000 evenly spaced numbers between 0 (inclusive) and 10 (inclusive)\n",
    "v = np.linspace(0, 10, 1000)\n",
    "print(np.min(v), np.max(v), np.size(v), sep=' ; ')"
   ]
  },
  {
   "cell_type": "code",
   "execution_count": 14,
   "id": "dc4977c4-8f0a-4e45-a889-06a31572e196",
   "metadata": {},
   "outputs": [
    {
     "data": {
      "text/plain": [
       "array([[ 1,  2],\n",
       "       [ 3,  4],\n",
       "       [ 5,  6],\n",
       "       [ 7,  8],\n",
       "       [ 9, 10]])"
      ]
     },
     "execution_count": 14,
     "metadata": {},
     "output_type": "execute_result"
    }
   ],
   "source": [
    "# Matrix of 5 * 2 with consecutive elements from 1 to 10\n",
    "A = np.arange(1, 11, 1).reshape((5, 2)) # use np.arange() then ndarray.reshape()\n",
    "A"
   ]
  },
  {
   "cell_type": "markdown",
   "id": "35242645-904f-42b9-8e60-d8a43206c3b5",
   "metadata": {},
   "source": [
    "# Understanding axes\n",
    "\n",
    "You can aggregate array to compute means, standard deviation etc. along the chosen dimension. When you specify the axis, you specify ACROSS which dimension you want to compute the indicator.\n",
    "\n",
    "For instance, if you want to compute the mean of the elements accross the 3rd dimension i.e. accross the columns of the matrices. You will thus get an array of 2 * 2 * 1 elements i.e. for each considered matrix, for each row you compute the mean accross the columns. Or you can reduce the results to a 2*2 matrix where the first row of the matrix contains the result of the first matrix and the second row of the obtained matrix the results for the second matrix. By default, results are reduced!"
   ]
  },
  {
   "cell_type": "code",
   "execution_count": 15,
   "id": "40063c6d-ee79-4c1a-a0a2-2cf1630b99f2",
   "metadata": {},
   "outputs": [
    {
     "data": {
      "text/plain": [
       "array([[[ 2.],\n",
       "        [ 5.]],\n",
       "\n",
       "       [[ 8.],\n",
       "        [11.]]])"
      ]
     },
     "execution_count": 15,
     "metadata": {},
     "output_type": "execute_result"
    },
    {
     "data": {
      "text/plain": [
       "array([[ 2.,  5.],\n",
       "       [ 8., 11.]])"
      ]
     },
     "execution_count": 15,
     "metadata": {},
     "output_type": "execute_result"
    }
   ],
   "source": [
    "mu = np.mean(nd, axis=2, keepdims=True)\n",
    "mu\n",
    "\n",
    "mu2 = np.mean(nd, axis=2)\n",
    "mu2"
   ]
  },
  {
   "cell_type": "code",
   "execution_count": 16,
   "id": "e7eb4e10-8f8c-499b-b5c8-6d9ad316ff44",
   "metadata": {},
   "outputs": [
    {
     "data": {
      "text/plain": [
       "6.5"
      ]
     },
     "execution_count": 16,
     "metadata": {},
     "output_type": "execute_result"
    }
   ],
   "source": [
    "# If you do not specify the axis, it computes the mean over the flattened array (i.e. accross all\n",
    "# the elements)\n",
    "np.mean(nd)"
   ]
  },
  {
   "cell_type": "code",
   "execution_count": 17,
   "id": "13d23538-0f32-43ca-a4cb-507f441b631f",
   "metadata": {},
   "outputs": [
    {
     "data": {
      "text/plain": [
       "array([[4., 5., 6.],\n",
       "       [7., 8., 9.]])"
      ]
     },
     "execution_count": 17,
     "metadata": {},
     "output_type": "execute_result"
    }
   ],
   "source": [
    "# Accross axis=0 means you average each element of the two matrices like \n",
    "# M(1,1) = [A1(1,1) + A2(1, 1)]/2\n",
    "np.mean(nd, axis=0)\n",
    "# You obtain a new matrix except if you keep dim where you have a list of 1 matrix"
   ]
  },
  {
   "cell_type": "markdown",
   "id": "a5fcf1eb-bc06-4686-b3e1-3572437702d9",
   "metadata": {},
   "source": [
    "What if you want to compute the mean of each matrix (like the mean of all elements of matrix1 and the mean of all elements of matrix 2)? You can specify a tuple of axis."
   ]
  },
  {
   "cell_type": "code",
   "execution_count": 18,
   "id": "a50dd238-859e-4001-bb57-cb255ee6e861",
   "metadata": {},
   "outputs": [
    {
     "data": {
      "text/plain": [
       "array([3.5, 9.5])"
      ]
     },
     "execution_count": 18,
     "metadata": {},
     "output_type": "execute_result"
    }
   ],
   "source": [
    "np.mean(nd, axis=(1, 2)) \n",
    "# Matrix 1 : (1+2+3+4+5+6)/6 = 21/6 = 3.5"
   ]
  },
  {
   "cell_type": "markdown",
   "id": "4fc25b21-8373-4f0f-b198-e9243cbb3a66",
   "metadata": {},
   "source": [
    "Thus np.mean(v, axis=(0, 1, 2)) <==> np.mean(v) without specifying axis i.e. on the flattened vector"
   ]
  },
  {
   "cell_type": "code",
   "execution_count": 19,
   "id": "f60fe82c-3e21-43a1-bf86-a8d1c829c19e",
   "metadata": {},
   "outputs": [
    {
     "data": {
      "text/plain": [
       "6.5"
      ]
     },
     "execution_count": 19,
     "metadata": {},
     "output_type": "execute_result"
    },
    {
     "data": {
      "text/plain": [
       "6.5"
      ]
     },
     "execution_count": 19,
     "metadata": {},
     "output_type": "execute_result"
    }
   ],
   "source": [
    "np.mean(nd, axis=(0, 1, 2)) \n",
    "np.mean(nd)"
   ]
  },
  {
   "cell_type": "markdown",
   "id": "75924d25-b4f1-4c3f-aa81-9602733a1871",
   "metadata": {},
   "source": [
    "# Reshaping arrays\n",
    "\n",
    "We have already seen ndarray.reshape() method. There are also ways to expand the dimensions of array."
   ]
  },
  {
   "cell_type": "code",
   "execution_count": 23,
   "id": "c926a2f3-907d-416a-be06-2bc61e241e13",
   "metadata": {},
   "outputs": [
    {
     "name": "stdout",
     "output_type": "stream",
     "text": [
      "1 (6,) 6\n"
     ]
    },
    {
     "data": {
      "text/plain": [
       "array([1, 2, 3, 4, 5, 6])"
      ]
     },
     "execution_count": 23,
     "metadata": {},
     "output_type": "execute_result"
    }
   ],
   "source": [
    "v = np.array([1, 2, 3, 4, 5, 6])\n",
    "print(v.ndim, v.shape, v.size)\n",
    "# v is a 1D array of 6 elements\n",
    "v"
   ]
  },
  {
   "cell_type": "code",
   "execution_count": 24,
   "id": "5da3c21f-6422-41da-ad82-83bb8cb2d4f6",
   "metadata": {},
   "outputs": [
    {
     "name": "stdout",
     "output_type": "stream",
     "text": [
      "2 (6, 1) 6\n"
     ]
    },
    {
     "data": {
      "text/plain": [
       "array([[1],\n",
       "       [2],\n",
       "       [3],\n",
       "       [4],\n",
       "       [5],\n",
       "       [6]])"
      ]
     },
     "execution_count": 24,
     "metadata": {},
     "output_type": "execute_result"
    }
   ],
   "source": [
    "# We can convert it to a column vector\n",
    "v2 = v.reshape((v.size, 1))\n",
    "print(v2.ndim, v2.shape, v2.size)\n",
    "v2"
   ]
  },
  {
   "cell_type": "code",
   "execution_count": 29,
   "id": "018e86e9-ed4e-46d7-ab55-255b074ebb32",
   "metadata": {},
   "outputs": [
    {
     "name": "stdout",
     "output_type": "stream",
     "text": [
      "2 (6, 1) 6\n"
     ]
    },
    {
     "data": {
      "text/plain": [
       "array([[1],\n",
       "       [2],\n",
       "       [3],\n",
       "       [4],\n",
       "       [5],\n",
       "       [6]])"
      ]
     },
     "execution_count": 29,
     "metadata": {},
     "output_type": "execute_result"
    }
   ],
   "source": [
    "# We could have done the same with np.newaxis\n",
    "v3 = v[:, np.newaxis] # Here you are adding a second dimension \n",
    "print(v3.ndim, v3.shape, v3.size)\n",
    "v2\n",
    "# Technically here you are saying: take me all the elements of the first dimension of the 1D array (v)\n",
    "# so 1, 2 etc. and add an empty second dimension which gives (1, .), (2, .) etc. i.e. a column vector."
   ]
  },
  {
   "cell_type": "code",
   "execution_count": 34,
   "id": "0856b54f-3ecb-42be-842d-41172aaf8912",
   "metadata": {},
   "outputs": [
    {
     "name": "stdout",
     "output_type": "stream",
     "text": [
      "(1, 6) (1, 6)\n"
     ]
    },
    {
     "data": {
      "text/plain": [
       "array([[1, 2, 3, 4, 5, 6]])"
      ]
     },
     "execution_count": 34,
     "metadata": {},
     "output_type": "execute_result"
    }
   ],
   "source": [
    "# We could have build row vectors as well\n",
    "rv1 = v[np.newaxis, :]\n",
    "rv2 = v.reshape((1, v.size))\n",
    "print(rv1.shape, rv2.shape)\n",
    "rv1"
   ]
  },
  {
   "cell_type": "code",
   "execution_count": 35,
   "id": "d4ed15a8-4818-466d-bcfc-3a072b0371da",
   "metadata": {},
   "outputs": [
    {
     "name": "stdout",
     "output_type": "stream",
     "text": [
      "(1, 6)\n"
     ]
    },
    {
     "data": {
      "text/plain": [
       "array([[1, 2, 3, 4, 5, 6]])"
      ]
     },
     "execution_count": 35,
     "metadata": {},
     "output_type": "execute_result"
    }
   ],
   "source": [
    "# We could have achieved the same with np.expand_dims()\n",
    "rv3 = np.expand_dims(v, axis=0)\n",
    "print(rv3.shape)\n",
    "rv3"
   ]
  },
  {
   "cell_type": "code",
   "execution_count": 36,
   "id": "83990d83-194d-4551-8747-d56133517b2c",
   "metadata": {},
   "outputs": [
    {
     "data": {
      "text/plain": [
       "array([[1],\n",
       "       [2],\n",
       "       [3],\n",
       "       [4],\n",
       "       [5],\n",
       "       [6]])"
      ]
     },
     "execution_count": 36,
     "metadata": {},
     "output_type": "execute_result"
    }
   ],
   "source": [
    "cv1 = np.expand_dims(v, axis=1)\n",
    "cv1"
   ]
  },
  {
   "cell_type": "markdown",
   "id": "5f889b26-e87c-4f7b-b261-b317266421e1",
   "metadata": {},
   "source": [
    "# Operations with arrays\n",
    "\n",
    "If arrays have the same size, operations in numpy are element-wise : *, /, +, -. For instance"
   ]
  },
  {
   "cell_type": "code",
   "execution_count": 43,
   "id": "90d660d9-beae-426b-8c2f-43e7f253b5d1",
   "metadata": {},
   "outputs": [],
   "source": [
    "a = np.array([[1, 2, 3], [4, 5, 6]])\n",
    "b = np.array([[10, 20, 30], [1, 2, 3]])"
   ]
  },
  {
   "cell_type": "code",
   "execution_count": 44,
   "id": "25f17673-f0f7-4046-bb13-a77b31a04308",
   "metadata": {},
   "outputs": [
    {
     "data": {
      "text/plain": [
       "array([[10, 40, 90],\n",
       "       [ 4, 10, 18]])"
      ]
     },
     "execution_count": 44,
     "metadata": {},
     "output_type": "execute_result"
    }
   ],
   "source": [
    "a*b"
   ]
  },
  {
   "cell_type": "code",
   "execution_count": 45,
   "id": "3a8194ea-636a-4911-82d0-e6cb8ebb4ea3",
   "metadata": {},
   "outputs": [
    {
     "data": {
      "text/plain": [
       "array([[0.1, 0.1, 0.1],\n",
       "       [4. , 2.5, 2. ]])"
      ]
     },
     "execution_count": 45,
     "metadata": {},
     "output_type": "execute_result"
    }
   ],
   "source": [
    "a/b"
   ]
  },
  {
   "cell_type": "code",
   "execution_count": 46,
   "id": "ba41d519-5794-4e9c-a182-960a654f0976",
   "metadata": {},
   "outputs": [
    {
     "data": {
      "text/plain": [
       "array([[11, 22, 33],\n",
       "       [ 5,  7,  9]])"
      ]
     },
     "execution_count": 46,
     "metadata": {},
     "output_type": "execute_result"
    }
   ],
   "source": [
    "a+b"
   ]
  },
  {
   "cell_type": "code",
   "execution_count": 47,
   "id": "071043ec-6807-46f0-baea-94fcbb315fa2",
   "metadata": {},
   "outputs": [
    {
     "data": {
      "text/plain": [
       "array([[ -9, -18, -27],\n",
       "       [  3,   3,   3]])"
      ]
     },
     "execution_count": 47,
     "metadata": {},
     "output_type": "execute_result"
    }
   ],
   "source": [
    "a-b"
   ]
  },
  {
   "cell_type": "markdown",
   "id": "d414a78f-f2da-421a-bbcc-d1c1d13102ec",
   "metadata": {},
   "source": [
    "**Broadcasting**\n",
    "\n",
    "There are times when you might want to carry out an operation between an array and a single number (also called an operation between a vector and a scalar) or between arrays of two different sizes. For example, your array (we’ll call it “data”) might contain information about distance in miles but you want to convert the information to kilometers. NumPy understands that the multiplication should happen with each cell. That concept is called broadcasting. Broadcasting is a mechanism that allows NumPy to perform operations on arrays of different shapes. The dimensions of your array must be compatible, for example, when the dimensions of both arrays are equal or when one of them is 1. If the dimensions are not compatible, you will get a ValueError.\n",
    "\n",
    "When operating on two arrays, NumPy compares their shapes element-wise. It starts with the trailing (i.e. rightmost) dimensions and works its way left. Two dimensions are compatible when:\n",
    "\n",
    "+ they are equal, or\n",
    "+ one of them is 1\n",
    "\n",
    "If these conditions are not met, a ValueError: operands could not be broadcast together exception is thrown, indicating that the arrays have incompatible shapes. The size of the resulting array is the size that is not 1 along each axis of the inputs. Arrays do not need to have the same number of dimensions. For example, if you have a 256x256x3 array of RGB values, and you want to scale each color in the image by a different value, you can multiply the image by a one-dimensional array with 3 values.  When either of the dimensions compared is one, the other is used. In other words, dimensions with size 1 are stretched or “copied” to match the other."
   ]
  },
  {
   "cell_type": "code",
   "execution_count": 52,
   "id": "88f09f3a-cf5f-46cb-8721-1acefc6875c1",
   "metadata": {},
   "outputs": [
    {
     "data": {
      "text/plain": [
       "array([[ 3,  6,  9],\n",
       "       [12, 15, 18]])"
      ]
     },
     "execution_count": 52,
     "metadata": {},
     "output_type": "execute_result"
    }
   ],
   "source": [
    "a * 3 # Multiplication by a scalar"
   ]
  },
  {
   "cell_type": "code",
   "execution_count": 57,
   "id": "fe8a5543-80a8-431a-a166-c6bff73ea3a8",
   "metadata": {},
   "outputs": [
    {
     "data": {
      "text/plain": [
       "(2, 3)"
      ]
     },
     "execution_count": 57,
     "metadata": {},
     "output_type": "execute_result"
    },
    {
     "data": {
      "text/plain": [
       "(3,)"
      ]
     },
     "execution_count": 57,
     "metadata": {},
     "output_type": "execute_result"
    },
    {
     "data": {
      "text/plain": [
       "array([[ 100,  400,  900],\n",
       "       [ 400, 1000, 1800]])"
      ]
     },
     "execution_count": 57,
     "metadata": {},
     "output_type": "execute_result"
    },
    {
     "data": {
      "text/plain": [
       "(2, 3)"
      ]
     },
     "execution_count": 57,
     "metadata": {},
     "output_type": "execute_result"
    },
    {
     "data": {
      "text/plain": [
       "array([[ 100,  400,  900],\n",
       "       [ 400, 1000, 1800]])"
      ]
     },
     "execution_count": 57,
     "metadata": {},
     "output_type": "execute_result"
    }
   ],
   "source": [
    "a.shape\n",
    "z = np.array([100, 200, 300]) # it is a 1d array of 3 elements: shape = (3, )\n",
    "z.shape\n",
    "# z is converted to be an array of 2D with shape (2, 3) where z[1, :] = z[0, :]\n",
    "a*z\n",
    "\n",
    "# equivalent of\n",
    "z2 = np.array([[100, 200, 300], [100, 200, 300]])\n",
    "z2.shape\n",
    "a*z2"
   ]
  },
  {
   "cell_type": "code",
   "execution_count": 66,
   "id": "add57b82-44cb-4c91-abde-91dd5e23edf1",
   "metadata": {},
   "outputs": [
    {
     "data": {
      "text/plain": [
       "array([ 0, 10, 20, 30])"
      ]
     },
     "execution_count": 66,
     "metadata": {},
     "output_type": "execute_result"
    },
    {
     "data": {
      "text/plain": [
       "array([1, 2, 3])"
      ]
     },
     "execution_count": 66,
     "metadata": {},
     "output_type": "execute_result"
    }
   ],
   "source": [
    "a = np.arange(0, 31, 10)\n",
    "b = np.arange(1, 4, 1)\n",
    "a\n",
    "b"
   ]
  },
  {
   "cell_type": "code",
   "execution_count": 67,
   "id": "95b57455-2727-4043-afcf-67d5d0043bfa",
   "metadata": {},
   "outputs": [
    {
     "data": {
      "text/plain": [
       "array([[ 1,  2,  3],\n",
       "       [11, 12, 13],\n",
       "       [21, 22, 23],\n",
       "       [31, 32, 33]])"
      ]
     },
     "execution_count": 67,
     "metadata": {},
     "output_type": "execute_result"
    }
   ],
   "source": [
    "# a is (4,1)\n",
    "# (4,1) + (3,) => (4, 3)\n",
    "# a is gonna be converted to 4, 3\n",
    "# b is gonna be converted to 4, 3\n",
    "# 3 Columns of 0 10 20 30 + 4 rows of 1, 2, 3\n",
    "# 1 2 3\n",
    "# 11 12 13\n",
    "# 21 22 23\n",
    "# 31 32 33\n",
    "a[:, np.newaxis] + b"
   ]
  },
  {
   "cell_type": "code",
   "execution_count": 87,
   "id": "06902aae-58a0-4a14-832e-3d5a451bcea4",
   "metadata": {},
   "outputs": [
    {
     "data": {
      "text/plain": [
       "array([[650]])"
      ]
     },
     "execution_count": 87,
     "metadata": {},
     "output_type": "execute_result"
    },
    {
     "data": {
      "text/plain": [
       "numpy.ndarray"
      ]
     },
     "execution_count": 87,
     "metadata": {},
     "output_type": "execute_result"
    },
    {
     "data": {
      "text/plain": [
       "(1, 1)"
      ]
     },
     "execution_count": 87,
     "metadata": {},
     "output_type": "execute_result"
    },
    {
     "data": {
      "text/plain": [
       "650"
      ]
     },
     "execution_count": 87,
     "metadata": {},
     "output_type": "execute_result"
    },
    {
     "data": {
      "text/plain": [
       "int"
      ]
     },
     "execution_count": 87,
     "metadata": {},
     "output_type": "execute_result"
    }
   ],
   "source": [
    "# Matrix operations can be performed using @\n",
    "v = np.arange(1, 13, 1).reshape((12, 1))\n",
    "w = v.copy()\n",
    "z = v.T @ w # returns a (1*1) 2-D array\n",
    "z\n",
    "type(z)\n",
    "z.shape\n",
    "zscalar = z.item() # to get the scalar of a 1-sized ndarray\n",
    "zscalar\n",
    "type(zscalar)"
   ]
  },
  {
   "cell_type": "code",
   "execution_count": 88,
   "id": "be851182-e24e-41b5-b12c-ae63dd89669e",
   "metadata": {},
   "outputs": [
    {
     "data": {
      "text/plain": [
       "(12, 12)"
      ]
     },
     "execution_count": 88,
     "metadata": {},
     "output_type": "execute_result"
    },
    {
     "data": {
      "text/plain": [
       "144"
      ]
     },
     "execution_count": 88,
     "metadata": {},
     "output_type": "execute_result"
    },
    {
     "data": {
      "text/plain": [
       "array([[  1,   2,   3,   4,   5,   6,   7,   8,   9,  10,  11,  12],\n",
       "       [  2,   4,   6,   8,  10,  12,  14,  16,  18,  20,  22,  24],\n",
       "       [  3,   6,   9,  12,  15,  18,  21,  24,  27,  30,  33,  36],\n",
       "       [  4,   8,  12,  16,  20,  24,  28,  32,  36,  40,  44,  48],\n",
       "       [  5,  10,  15,  20,  25,  30,  35,  40,  45,  50,  55,  60],\n",
       "       [  6,  12,  18,  24,  30,  36,  42,  48,  54,  60,  66,  72],\n",
       "       [  7,  14,  21,  28,  35,  42,  49,  56,  63,  70,  77,  84],\n",
       "       [  8,  16,  24,  32,  40,  48,  56,  64,  72,  80,  88,  96],\n",
       "       [  9,  18,  27,  36,  45,  54,  63,  72,  81,  90,  99, 108],\n",
       "       [ 10,  20,  30,  40,  50,  60,  70,  80,  90, 100, 110, 120],\n",
       "       [ 11,  22,  33,  44,  55,  66,  77,  88,  99, 110, 121, 132],\n",
       "       [ 12,  24,  36,  48,  60,  72,  84,  96, 108, 120, 132, 144]])"
      ]
     },
     "execution_count": 88,
     "metadata": {},
     "output_type": "execute_result"
    }
   ],
   "source": [
    "A = v @ w.T\n",
    "A.shape\n",
    "A.size\n",
    "A"
   ]
  }
 ],
 "metadata": {
  "kernelspec": {
   "display_name": "Python 3 (ipykernel)",
   "language": "python",
   "name": "python3"
  },
  "language_info": {
   "codemirror_mode": {
    "name": "ipython",
    "version": 3
   },
   "file_extension": ".py",
   "mimetype": "text/x-python",
   "name": "python",
   "nbconvert_exporter": "python",
   "pygments_lexer": "ipython3",
   "version": "3.10.4"
  }
 },
 "nbformat": 4,
 "nbformat_minor": 5
}
