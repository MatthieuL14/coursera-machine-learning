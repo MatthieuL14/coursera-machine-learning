{
 "cells": [
  {
   "cell_type": "code",
   "execution_count": 1,
   "id": "80b985b1-ecd1-4858-a274-ee36a5258295",
   "metadata": {},
   "outputs": [],
   "source": [
    "import numpy as np\n",
    "import matplotlib.pyplot as plt\n",
    "from mpl_toolkits.mplot3d import axes3d\n",
    "import math"
   ]
  },
  {
   "cell_type": "code",
   "execution_count": null,
   "id": "dbef408c-99d5-4c8e-991f-902e39ce62e2",
   "metadata": {},
   "outputs": [],
   "source": [
    "xs = np.arange(0.000001, 1.1, 0.001)"
   ]
  },
  {
   "cell_type": "code",
   "execution_count": null,
   "id": "b8dda15e-0f95-4481-9314-2e3e517c38da",
   "metadata": {},
   "outputs": [],
   "source": [
    "xs2 = np.ones(xs.size)-xs"
   ]
  },
  {
   "cell_type": "code",
   "execution_count": null,
   "id": "6aba9833-5aa2-4393-9ef8-ccd77b3f9c2d",
   "metadata": {},
   "outputs": [],
   "source": [
    "f = lambda x: -np.log(x)\n",
    "ys1 = f(xs)\n",
    "ys2 = np.log(xs)\n",
    "ys3 = f(xs2)"
   ]
  },
  {
   "cell_type": "code",
   "execution_count": null,
   "id": "015f1df2-73d3-45fb-892c-fb58a8ee502f",
   "metadata": {},
   "outputs": [],
   "source": [
    "fig, ax = plt.subplots()\n",
    "ax.plot(xs, ys1, 'blue', label='-log', alpha=0.5)\n",
    "ax.plot(xs, ys2, 'red', label='+log', alpha=0.5)\n",
    "ax.scatter(1, 0, color='black', marker='x', label='(1,0)', alpha=1)\n",
    "ax.legend()\n",
    "ax.grid(True)\n",
    "plt.show"
   ]
  },
  {
   "cell_type": "code",
   "execution_count": null,
   "id": "38608cec-63f4-44fc-91be-1860685184f9",
   "metadata": {},
   "outputs": [],
   "source": [
    "fig, ax = plt.subplots()\n",
    "ax.plot(xs, ys1, 'blue', label='v : x -> -log(x)', alpha=0.5)\n",
    "ax.plot(xs, ys3, 'red', label='w : x -> -log(1-x)', alpha=0.5)\n",
    "ax.scatter(1, 0, marker='x', color='blue', alpha=1, label='v(1)=0')\n",
    "ax.scatter(0, 0, marker='x', color='red', alpha=1, label='w(0)=0')\n",
    "ax.legend()\n",
    "ax.grid(True)\n",
    "plt.savefig('vw.png')"
   ]
  },
  {
   "cell_type": "code",
   "execution_count": null,
   "id": "a769a8e0-369d-468e-9d08-9d39eb91a1f0",
   "metadata": {},
   "outputs": [],
   "source": [
    "xs = np.arange(-5, 5, 0.1)\n",
    "g = lambda x: 1/(1 + np.exp(-x))\n",
    "ys = g(xs)"
   ]
  },
  {
   "cell_type": "code",
   "execution_count": null,
   "id": "a23c5867-605e-4bd9-84d9-1e23f8e6084b",
   "metadata": {},
   "outputs": [],
   "source": [
    "fig, ax = plt.subplots()\n",
    "ax.plot(xs, ys, 'blue', label='sigmoid', alpha=0.5)\n",
    "ax.scatter(0, 0.5, color='black', marker='x', label='(0,0.5)', alpha=1)\n",
    "ax.legend()\n",
    "ax.grid(True)\n",
    "plt.savefig('sigmoid.png')"
   ]
  },
  {
   "cell_type": "code",
   "execution_count": null,
   "id": "8443ad59-d665-402b-82ec-3db14a4d61a6",
   "metadata": {},
   "outputs": [],
   "source": [
    "xs = np.linspace(-2, 2, 4000, dtype=float)\n",
    "def cost0(x, k):\n",
    "    return 0 if x<-1 else k*(1+x)\n",
    "def cost1(x, k):\n",
    "    return 0 if x>1 else k*(1-x)\n",
    "k = 2"
   ]
  },
  {
   "cell_type": "code",
   "execution_count": null,
   "id": "51606ed7-7df0-4f30-b318-fee15bd01603",
   "metadata": {},
   "outputs": [],
   "source": [
    "f0 = np.vectorize(cost0, excluded=[1,], otypes=[float])\n",
    "f1 = np.vectorize(cost1, excluded=[1,], otypes=[float])"
   ]
  },
  {
   "cell_type": "code",
   "execution_count": null,
   "id": "9bea9778-15a7-48d5-88dc-374071286058",
   "metadata": {},
   "outputs": [],
   "source": [
    "ys1 = f0(xs, k)\n",
    "ys2 = f1(xs, k)"
   ]
  },
  {
   "cell_type": "code",
   "execution_count": null,
   "id": "f5aca21d-f9e7-47c3-88e1-76267b6da324",
   "metadata": {},
   "outputs": [],
   "source": [
    "fig, ax = plt.subplots()\n",
    "ax.plot(xs, ys1, 'blue', label='cost0', alpha=0.5)\n",
    "ax.plot(xs, ys2, 'red', label='cost1', alpha=0.5)\n",
    "ax.legend()\n",
    "ax.grid(True)\n",
    "plt.title('Hinge functions with k=2')\n",
    "plt.savefig('hinge.png')"
   ]
  },
  {
   "cell_type": "code",
   "execution_count": null,
   "id": "9b5d0fd6",
   "metadata": {},
   "outputs": [],
   "source": [
    "# Harmonic mean of x and y on [0,1]²\n",
    "xs = np.linspace(0, 1, 100)\n",
    "ys = np.linspace(0, 1, 100)\n",
    "X, Y = np.meshgrid(xs, ys)\n",
    "f = lambda x, y: (2*x*y) / (x+y)\n",
    "zs = f(X, Y)"
   ]
  },
  {
   "cell_type": "code",
   "execution_count": null,
   "id": "b2f5caff",
   "metadata": {},
   "outputs": [],
   "source": [
    "zs.shape"
   ]
  },
  {
   "cell_type": "code",
   "execution_count": null,
   "id": "d798d61d",
   "metadata": {},
   "outputs": [],
   "source": [
    "fig, ax = plt.subplots()\n",
    "CS = ax.contour(xs, ys, zs)\n",
    "ax.clabel(CS, inline=True, fontsize=10)\n",
    "ax.set_title('Simplest default with labels')"
   ]
  },
  {
   "cell_type": "code",
   "execution_count": null,
   "id": "bfe781de",
   "metadata": {},
   "outputs": [],
   "source": [
    "delta = 0.025\n",
    "x = np.arange(-3.0, 3.0, delta)"
   ]
  },
  {
   "cell_type": "code",
   "execution_count": null,
   "id": "2af94a98",
   "metadata": {},
   "outputs": [],
   "source": [
    "x = np.arange(1, 10)\n",
    "y = x.reshape(-1, 1)\n",
    "h = x * y\n",
    "cs = plt.contourf(h, levels=[10, 30, 50],\n",
    "    colors=['#808080', '#A0A0A0', '#C0C0C0'], extend='both')\n",
    "cs.cmap.set_over('red')\n",
    "cs.cmap.set_under('blue')\n",
    "cs.changed()"
   ]
  },
  {
   "cell_type": "code",
   "execution_count": null,
   "id": "a1f37c27",
   "metadata": {},
   "outputs": [],
   "source": [
    "h"
   ]
  },
  {
   "cell_type": "code",
   "execution_count": null,
   "id": "216d4b72",
   "metadata": {},
   "outputs": [],
   "source": [
    "# meshgrid ?\n",
    "x = np.linspace(1, 10, 10)\n",
    "y = np.linspace(10, 100, 10)\n",
    "print(x, y)"
   ]
  },
  {
   "cell_type": "code",
   "execution_count": null,
   "id": "e62b6d3e-c843-456a-ad5f-09b26b99844f",
   "metadata": {},
   "outputs": [],
   "source": [
    "X, Y = np.meshgrid(x, y)"
   ]
  },
  {
   "cell_type": "code",
   "execution_count": null,
   "id": "1ffcb836-8e6b-4549-88ed-45f576b10b33",
   "metadata": {},
   "outputs": [],
   "source": [
    "x = np.array([[1, 2, 3], [4, 5, 6], [7, 8, 9]])\n",
    "y = np.array([[7, 8, 9]])\n",
    "z = np.array([[4, 5], [7, 8], [10, 11]])"
   ]
  },
  {
   "cell_type": "code",
   "execution_count": null,
   "id": "3c6a5f95-28b1-454c-9573-2453d70bde69",
   "metadata": {},
   "outputs": [],
   "source": [
    "np.concatenate((x, y), axis=0)"
   ]
  },
  {
   "cell_type": "code",
   "execution_count": null,
   "id": "93789c50-ab30-40f3-b9d3-baae92f44e58",
   "metadata": {},
   "outputs": [],
   "source": [
    "np.concatenate((x, z), axis=1)"
   ]
  },
  {
   "cell_type": "code",
   "execution_count": null,
   "id": "eadc8f97-b075-492e-b8af-a02a91db5d9b",
   "metadata": {},
   "outputs": [],
   "source": [
    "# How does np.concatenate works:\n",
    "# Let take (x,y), axis=0\n",
    "# We are stacking along the rows i.e. vertically.\n",
    "# if x is of dimension N*M then we need to add elements of size X*M (same number of columns)"
   ]
  },
  {
   "cell_type": "code",
   "execution_count": null,
   "id": "70cbc9a3-ff25-45b1-b391-7c04df1025ed",
   "metadata": {},
   "outputs": [],
   "source": [
    "x = np.arange(0, 3) + 1\n",
    "y = np.array([1, 2])"
   ]
  },
  {
   "cell_type": "code",
   "execution_count": null,
   "id": "86acb8ae-4c14-49b9-ae4b-038d4d430e4d",
   "metadata": {},
   "outputs": [],
   "source": [
    "X, Y = np.meshgrid(x, y)"
   ]
  },
  {
   "cell_type": "code",
   "execution_count": null,
   "id": "1675d83e-5888-419b-87cf-f9d5390205b6",
   "metadata": {},
   "outputs": [],
   "source": [
    "x"
   ]
  },
  {
   "cell_type": "code",
   "execution_count": null,
   "id": "674d41f4-6d35-4dc3-bf23-f76ba8dbdfec",
   "metadata": {},
   "outputs": [],
   "source": [
    "X"
   ]
  },
  {
   "cell_type": "code",
   "execution_count": 2,
   "id": "610b2c03-b243-4cb6-b801-2577ffa6af03",
   "metadata": {},
   "outputs": [],
   "source": [
    "xs = np.linspace(0.00001, 1, 1000)\n",
    "ys = np.linspace(0.00001, 1, 1000)\n",
    "X, Y = np.meshgrid(xs, ys)\n",
    "f = lambda x, y: (2*x*y) / (x+y)"
   ]
  },
  {
   "cell_type": "code",
   "execution_count": 4,
   "id": "ce22f143-83f9-4ad9-8d6f-cdd93ff7ea8b",
   "metadata": {},
   "outputs": [
    {
     "data": {
      "text/plain": [
       "<mpl_toolkits.mplot3d.art3d.Poly3DCollection at 0x7f778af67f70>"
      ]
     },
     "execution_count": 4,
     "metadata": {},
     "output_type": "execute_result"
    },
    {
     "data": {
      "image/png": "[encoded data removed]",
      "text/plain": [
       "<Figure size 432x288 with 1 Axes>"
      ]
     },
     "metadata": {
      "needs_background": "light"
     },
     "output_type": "display_data"
    }
   ],
   "source": [
    "fig, ax = plt.subplots(subplot_kw={'projection': '3d'})\n",
    "ax.plot_surface(X, Y, f(X, Y))"
   ]
  }
 ],
 "metadata": {
  "kernelspec": {
   "display_name": "Python 3 (ipykernel)",
   "language": "python",
   "name": "python3"
  },
  "language_info": {
   "codemirror_mode": {
    "name": "ipython",
    "version": 3
   },
   "file_extension": ".py",
   "mimetype": "text/x-python",
   "name": "python",
   "nbconvert_exporter": "python",
   "pygments_lexer": "ipython3",
   "version": "3.10.4"
  }
 },
 "nbformat": 4,
 "nbformat_minor": 5
}
