{
 "cells": [
  {
   "cell_type": "code",
   "execution_count": 335,
   "id": "528cb8b3-d181-4d20-8fb0-2bcc7c3aa21b",
   "metadata": {},
   "outputs": [],
   "source": [
    "import matplotlib.pyplot as plt\n",
    "import numpy as np"
   ]
  },
  {
   "cell_type": "markdown",
   "id": "292c2e8f-f710-483c-b1fb-21a2c06936e3",
   "metadata": {},
   "source": [
    "# Part 1"
   ]
  },
  {
   "cell_type": "markdown",
   "id": "23ae18bd-c61e-443e-bf1e-d990346d3f13",
   "metadata": {},
   "source": [
    "## Loading data"
   ]
  },
  {
   "cell_type": "code",
   "execution_count": 336,
   "id": "a0459855-d8e9-4e89-aa15-55d72deb1231",
   "metadata": {},
   "outputs": [
    {
     "name": "stdout",
     "output_type": "stream",
     "text": [
      "2 ; (100, 3) ; 300\n"
     ]
    }
   ],
   "source": [
    "data = np.loadtxt('ex2data1.txt', delimiter=',')\n",
    "print(data.ndim, data.shape, data.size, sep=' ; ')"
   ]
  },
  {
   "cell_type": "code",
   "execution_count": 337,
   "id": "b69d0cf2-818f-45ba-b3c6-f492220e5b87",
   "metadata": {},
   "outputs": [],
   "source": [
    "X = data[:, 0:2]\n",
    "y = data[:, 2]"
   ]
  },
  {
   "cell_type": "markdown",
   "id": "7b2fdf00-27b3-4a79-9e42-bda980b083eb",
   "metadata": {},
   "source": [
    "## Visualize the data"
   ]
  },
  {
   "cell_type": "code",
   "execution_count": 338,
   "id": "edb5a46d-fbde-4d64-b885-7b0b8575f31e",
   "metadata": {},
   "outputs": [
    {
     "data": {
      "text/plain": [
       "<matplotlib.legend.Legend at 0x7fb7fbfc6d70>"
      ]
     },
     "execution_count": 338,
     "metadata": {},
     "output_type": "execute_result"
    },
    {
     "data": {
      "image/png": "[encoded data removed]",
      "text/plain": [
       "<Figure size 432x288 with 1 Axes>"
      ]
     },
     "metadata": {
      "needs_background": "light"
     },
     "output_type": "display_data"
    }
   ],
   "source": [
    "fig, ax = plt.subplots()\n",
    "ax.scatter(X[y==0, 0], X[y==0, 1], c='red', marker='o', label='Not admitted')\n",
    "ax.scatter(X[y==1, 0], X[y==1, 1], c='blue', marker='+', label='Admitted')\n",
    "ax.set_xlabel('Exam 1 score')\n",
    "ax.set_ylabel('Exam 2 score')\n",
    "ax.legend()"
   ]
  },
  {
   "cell_type": "markdown",
   "id": "50e98320-d6c1-4266-8772-959df5084f24",
   "metadata": {},
   "source": [
    "We are going to try to fit a linear decision boundary. Let's do it manually. We won't use regularization for this part and by the way, we are not prone to overfitting.\n",
    "\n",
    "## Features scaling\n",
    "\n",
    "As a first step, let's process are features so that they are on the same scale. This will help gradient descent to converge."
   ]
  },
  {
   "cell_type": "code",
   "execution_count": null,
   "id": "82a96833-4184-4460-a68c-1b995fdfc0c4",
   "metadata": {},
   "outputs": [],
   "source": []
  },
  {
   "cell_type": "code",
   "execution_count": 339,
   "id": "5884cf26-840d-45d6-a6c2-82f0b0377a9d",
   "metadata": {},
   "outputs": [
    {
     "name": "stdout",
     "output_type": "stream",
     "text": [
      "[-1.83802631 -1.92641626] ; [1.76561835 1.76571557] ; [-2.31925590e-15  1.16795462e-15]\n"
     ]
    }
   ],
   "source": [
    "Xscaled = (X - np.mean(X, axis=0)) / (np.std(X, axis=0))\n",
    "print(np.min(Xscaled, axis=0), np.max(Xscaled, axis=0), np.mean(Xscaled, axis=0), sep=' ; ')"
   ]
  },
  {
   "cell_type": "markdown",
   "id": "248b8207-2374-4565-b335-ba78fbdf05d3",
   "metadata": {},
   "source": [
    "Let's also add a column of 1 for the intercept value."
   ]
  },
  {
   "cell_type": "code",
   "execution_count": 340,
   "id": "f62204e3-80c9-4c5f-b139-8a57dfce47b6",
   "metadata": {},
   "outputs": [
    {
     "data": {
      "text/plain": [
       "array([[ 1.        , -1.60224763,  0.63834112],\n",
       "       [ 1.        , -1.82625564, -1.2075414 ]])"
      ]
     },
     "execution_count": 340,
     "metadata": {},
     "output_type": "execute_result"
    }
   ],
   "source": [
    "Xscaled = np.concatenate((np.ones((Xscaled.shape[0], 1)), Xscaled), axis=1)\n",
    "Xscaled[:2, :]"
   ]
  },
  {
   "cell_type": "markdown",
   "id": "a79b9e9c-0ab5-4e1a-a9f8-7941fcc460c9",
   "metadata": {},
   "source": [
    "Finally, for matrix multiplication @ to work fine, let reshape y as a m*1 column vector."
   ]
  },
  {
   "cell_type": "code",
   "execution_count": 341,
   "id": "9d861b26-7828-402d-b64d-afc09be826a2",
   "metadata": {},
   "outputs": [],
   "source": [
    "yreshaped = y.reshape((y.size, 1))"
   ]
  },
  {
   "cell_type": "markdown",
   "id": "755a4a81-d454-4615-89a3-db97553953c5",
   "metadata": {},
   "source": [
    "## Gradient descent\n",
    "\n",
    "Let's do it by hand with a vectorized implementation."
   ]
  },
  {
   "cell_type": "code",
   "execution_count": 342,
   "id": "d7458dbe-c105-45c6-9947-3deaf2493079",
   "metadata": {},
   "outputs": [],
   "source": [
    "def sigmoid(x):\n",
    "    ''' Apply sigmoid function to an array (element-wise) or a scalar '''\n",
    "    return 1 / (1 + np.exp(-x))"
   ]
  },
  {
   "cell_type": "code",
   "execution_count": 343,
   "id": "b8f9450d-43ae-44ae-891e-7a7e19b47b23",
   "metadata": {},
   "outputs": [],
   "source": [
    "def cost_function(lamb, theta, X, y):\n",
    "    ''' Cost function for logistic regression\n",
    "\n",
    "    Params\n",
    "    ____________\n",
    "    y should be a m*1 column vector\n",
    "    X should be a m*n matrix\n",
    "    theta should be a n*1 column vector\n",
    "\n",
    "    Output\n",
    "    ___________\n",
    "    A real value\n",
    "    '''\n",
    "    m = y.size\n",
    "    cost = (-1/m) * ((y.T @ np.log(sigmoid(X@theta))) + (1-y).T @ np.log(1 - sigmoid(X@theta))) + \\\n",
    "    (lamb/(2*m)) * (theta[1:].T @ theta[1:])\n",
    "    return cost.item() # cost is (1, 1) array so we want to extract the scalar"
   ]
  },
  {
   "cell_type": "code",
   "execution_count": 356,
   "id": "0ea05368-6bf3-4a2d-bded-c47fb3cc51b9",
   "metadata": {},
   "outputs": [],
   "source": [
    "def gradient_update(lamb, alpha, theta, X, y):\n",
    "    '''Output\n",
    "    ______________\n",
    "    A n*1 column vector with updated theta value\n",
    "    '''\n",
    "    m = y.size\n",
    "    unreg_theta = theta - (alpha/m) * (X.T @ (sigmoid(X@theta) - y))\n",
    "    reg_theta = unreg_theta\n",
    "    reg_theta[1:] = unreg_theta[1:] + (lamb/m) * theta[1:]\n",
    "    return reg_theta"
   ]
  },
  {
   "cell_type": "code",
   "execution_count": 357,
   "id": "5bd7f212-ff2f-4d3c-884a-2e5d62b47ad7",
   "metadata": {},
   "outputs": [],
   "source": [
    "def run_gradient(lamb, alpha, num_iterations, theta, X, y):\n",
    "    costs = list()\n",
    "    thetas = list()\n",
    "    i = 1\n",
    "    while i <= num_iterations:\n",
    "        theta = gradient_update(lamb, alpha, theta, X, y)\n",
    "        costs.append(cost_function(lamb, theta, X, y))\n",
    "        thetas.append(theta)\n",
    "        i += 1\n",
    "    return np.array(costs), np.array(thetas)"
   ]
  },
  {
   "cell_type": "markdown",
   "id": "b1f203e9-35a5-4481-9a06-f3163b2703cb",
   "metadata": {},
   "source": [
    "Let's initialize our parameters."
   ]
  },
  {
   "cell_type": "code",
   "execution_count": 358,
   "id": "94aa0ba3-adbe-43b1-8dab-3c9adae3e044",
   "metadata": {},
   "outputs": [],
   "source": [
    "alpha = 0.01\n",
    "lamb = 0 # no regularization here\n",
    "num_iterations = 10000\n",
    "n = Xscaled.shape[1]\n",
    "theta = np.zeros((n, 1))"
   ]
  },
  {
   "cell_type": "code",
   "execution_count": 359,
   "id": "5b5756c1-b1e2-4b8f-9f57-112b1b7556df",
   "metadata": {},
   "outputs": [
    {
     "name": "stdout",
     "output_type": "stream",
     "text": [
      "(10000,) ; (10000, 3, 1)\n"
     ]
    }
   ],
   "source": [
    "costs, thetas = run_gradient(lamb, alpha, num_iterations, theta, Xscaled, yreshaped)\n",
    "print(costs.shape, thetas.shape, sep=' ; ')"
   ]
  },
  {
   "cell_type": "markdown",
   "id": "bce48ab0-6f9c-48d4-bf9a-848db49362f9",
   "metadata": {},
   "source": [
    "Note that costs contains a 1 dimensional array of num_iterations elements. While thetas contains a 3 dimensional array of num_iterations * n elements. The first dimension corresponds to the given iteration and then dimension 2 and 3 corresponds to the column vector of theta at the given iteration."
   ]
  },
  {
   "cell_type": "markdown",
   "id": "7ac9661b-9e85-4797-9661-a82ccc015e3c",
   "metadata": {},
   "source": [
    "## Checking that gradient descent worked"
   ]
  },
  {
   "cell_type": "markdown",
   "id": "14b88b02-77ce-454b-84d4-2fbf37ef5a53",
   "metadata": {},
   "source": [
    "First, we can see that the cost function decreases after each iteration. At the end of the iterations, it does not decrease much showing that we reached the global minimum."
   ]
  },
  {
   "cell_type": "code",
   "execution_count": 360,
   "id": "f40a4038-4a85-4898-a71e-7ba64a6944c7",
   "metadata": {},
   "outputs": [
    {
     "data": {
      "text/plain": [
       "Text(0, 0.5, 'Cost function')"
      ]
     },
     "execution_count": 360,
     "metadata": {},
     "output_type": "execute_result"
    },
    {
     "data": {
      "image/png": "[encoded data removed]",
      "text/plain": [
       "<Figure size 432x288 with 1 Axes>"
      ]
     },
     "metadata": {
      "needs_background": "light"
     },
     "output_type": "display_data"
    }
   ],
   "source": [
    "fig, ax = plt.subplots()\n",
    "ax.plot(costs)\n",
    "ax.grid()\n",
    "ax.set_xlabel('Number of iterations')\n",
    "ax.set_ylabel('Cost function')"
   ]
  },
  {
   "cell_type": "markdown",
   "id": "c28dfd25-c4fe-440b-afa3-d72a1adec455",
   "metadata": {},
   "source": [
    "We can also look at the mean difference between the last 100 values of the cost function to check that it is small (as we can see on the graph)."
   ]
  },
  {
   "cell_type": "code",
   "execution_count": 361,
   "id": "2fd5b7ca-5bc7-4e50-b7c1-25ab5a670078",
   "metadata": {},
   "outputs": [
    {
     "name": "stdout",
     "output_type": "stream",
     "text": [
      "100 ; 100\n"
     ]
    },
    {
     "data": {
      "text/plain": [
       "-1.3286246227531273e-06"
      ]
     },
     "execution_count": 361,
     "metadata": {},
     "output_type": "execute_result"
    }
   ],
   "source": [
    "num_last = 100\n",
    "final = costs[-num_last:]\n",
    "lagged_final = costs[-num_last-1:-1]\n",
    "print(final.size, lagged_final.size, sep=' ; ')\n",
    "np.mean(final - lagged_final)"
   ]
  },
  {
   "cell_type": "markdown",
   "id": "5da6e7e4-0a56-4094-aec6-cc321e0bc8e8",
   "metadata": {},
   "source": [
    "On average, during the last 100 iterations, we decrease the cost function by only $10^{-6}$ which is very small."
   ]
  },
  {
   "cell_type": "markdown",
   "id": "5ae77a71-817e-430c-b2c1-c49192abe83a",
   "metadata": {},
   "source": [
    "## Drawing our decision boundary\n",
    "\n",
    "It corresponds to the equation p(y|x ; theta) = 0.5 i.e. $X\\theta = 0$."
   ]
  },
  {
   "cell_type": "code",
   "execution_count": 362,
   "id": "d2b4d7a9-3d3d-4512-827c-d321827c0ba9",
   "metadata": {},
   "outputs": [
    {
     "data": {
      "text/plain": [
       "array([1.27071379, 3.04735849, 2.81165934])"
      ]
     },
     "execution_count": 362,
     "metadata": {},
     "output_type": "execute_result"
    }
   ],
   "source": [
    "final_theta = thetas[-1, :].flatten()\n",
    "final_theta"
   ]
  },
  {
   "cell_type": "code",
   "execution_count": 363,
   "id": "6c643cd2-e5ba-437e-84a8-64051490a33a",
   "metadata": {},
   "outputs": [],
   "source": [
    "xs = np.linspace(np.min(Xscaled[:, 1]), np.max(Xscaled[:,1]), 1000)\n",
    "z = (1/final_theta[2]) * (-final_theta[0] - final_theta[1]*xs)"
   ]
  },
  {
   "cell_type": "code",
   "execution_count": 364,
   "id": "0787e851-52ea-4175-b7fd-da8c8306d6b1",
   "metadata": {},
   "outputs": [
    {
     "data": {
      "text/plain": [
       "<matplotlib.legend.Legend at 0x7fb7fb160bb0>"
      ]
     },
     "execution_count": 364,
     "metadata": {},
     "output_type": "execute_result"
    },
    {
     "data": {
      "image/png": "[encoded data removed]",
      "text/plain": [
       "<Figure size 432x288 with 1 Axes>"
      ]
     },
     "metadata": {
      "needs_background": "light"
     },
     "output_type": "display_data"
    }
   ],
   "source": [
    "fig, ax = plt.subplots()\n",
    "ax.scatter(Xscaled[y==0, 1], Xscaled[y==0, 2], c='red', marker='o', label='Not admitted')\n",
    "ax.scatter(Xscaled[y==1, 1], Xscaled[y==1, 2], c='blue', marker='+', label='Admitted')\n",
    "ax.plot(xs, z, label='Decision boundary')\n",
    "ax.set_xlabel('Exam 1 score')\n",
    "ax.set_ylabel('Exam 2 score')\n",
    "ax.legend()"
   ]
  },
  {
   "cell_type": "markdown",
   "id": "45542c21-1451-41a1-b4a5-6e61f164ee06",
   "metadata": {},
   "source": [
    "We can see that the algorithm misclassifies some examples."
   ]
  },
  {
   "cell_type": "markdown",
   "id": "b661bd40-63af-4a16-b96f-90d636c6a7d8",
   "metadata": {},
   "source": [
    "## Accuracy on the total sample"
   ]
  },
  {
   "cell_type": "code",
   "execution_count": 365,
   "id": "04a7862f-3ba0-4885-af84-cfaf8e80bed6",
   "metadata": {},
   "outputs": [
    {
     "name": "stdout",
     "output_type": "stream",
     "text": [
      "Accuracy on the full sample is: 89.0%\n"
     ]
    }
   ],
   "source": [
    "predictions = sigmoid(Xscaled @ thetas[-1, :])\n",
    "ypredicted = np.where(predictions>=0.5, 1 , 0).flatten()\n",
    "accuracy = np.sum(ypredicted==y) / y.size\n",
    "print(f'Accuracy on the full sample is: {accuracy:.1%}')"
   ]
  },
  {
   "cell_type": "markdown",
   "id": "ad790d67-2d66-425c-acc0-75d734e90043",
   "metadata": {},
   "source": [
    "# Part 2"
   ]
  },
  {
   "cell_type": "markdown",
   "id": "154667a9-c8dd-4a15-ba72-93c7fdefcd5f",
   "metadata": {},
   "source": [
    "## Loading data"
   ]
  },
  {
   "cell_type": "code",
   "execution_count": 398,
   "id": "b74df4de-ccab-4cc6-ae83-4a5415043e80",
   "metadata": {},
   "outputs": [
    {
     "name": "stdout",
     "output_type": "stream",
     "text": [
      "(118, 3) ; 354\n"
     ]
    }
   ],
   "source": [
    "data2 = np.loadtxt('ex2data2.txt', delimiter=',')\n",
    "print(data2.shape, data2.size, sep=' ; ')"
   ]
  },
  {
   "cell_type": "code",
   "execution_count": 399,
   "id": "4621355c-6f6e-4ca7-97e1-ba1d160d85bd",
   "metadata": {},
   "outputs": [
    {
     "name": "stdout",
     "output_type": "stream",
     "text": [
      "(118, 2) ; (118,)\n"
     ]
    }
   ],
   "source": [
    "X = data2[:, 0:2]\n",
    "y = data2[:, 2]\n",
    "print(X.shape, y.shape, sep=' ; ')"
   ]
  },
  {
   "cell_type": "markdown",
   "id": "ed8f4727-0d4b-4c7c-bc4b-3d623be8c806",
   "metadata": {},
   "source": [
    "y is negative or positive examples (1 = accepted microchips, 0 = rejected)\n",
    "x1 contains the result of microchips on test 1\n",
    "x2 contains the result of microchips on test 2"
   ]
  },
  {
   "cell_type": "markdown",
   "id": "059d82f7-1b37-417e-9bc2-e786bab3deef",
   "metadata": {},
   "source": [
    "## Data viz"
   ]
  },
  {
   "cell_type": "code",
   "execution_count": 400,
   "id": "c4d755e1-ea1e-4650-8498-7921d20d4a24",
   "metadata": {},
   "outputs": [
    {
     "data": {
      "text/plain": [
       "<matplotlib.legend.Legend at 0x7fb7fb0d2260>"
      ]
     },
     "execution_count": 400,
     "metadata": {},
     "output_type": "execute_result"
    },
    {
     "data": {
      "image/png": "[encoded data removed]",
      "text/plain": [
       "<Figure size 432x288 with 1 Axes>"
      ]
     },
     "metadata": {
      "needs_background": "light"
     },
     "output_type": "display_data"
    }
   ],
   "source": [
    "fig, ax = plt.subplots()\n",
    "ax.scatter(X[y==0, 0], X[y==0, 1], label='Rejected', c='red', marker='o')\n",
    "ax.scatter(X[y==1, 0], X[y==1, 1], label='Accepted', c='blue', marker='+')\n",
    "ax.grid()\n",
    "ax.legend()"
   ]
  },
  {
   "cell_type": "markdown",
   "id": "cee251ab-2dfa-42ea-9ed4-2400f0c9f9d0",
   "metadata": {},
   "source": [
    "Here, there is clearly no linear decision boundary that is possible."
   ]
  },
  {
   "cell_type": "markdown",
   "id": "c4417409-87d7-46d4-ab8e-802d79c48a38",
   "metadata": {},
   "source": [
    "## Feature mapping\n",
    "\n",
    "Let's create polynomial features of to power 6: x1² x2² x1³ x2³ ... x1⁶ x2⁶ as well as the cross products."
   ]
  },
  {
   "cell_type": "code",
   "execution_count": 407,
   "id": "203cc480-e297-42a0-a6dd-0e4960387d90",
   "metadata": {},
   "outputs": [],
   "source": [
    "def create_polynom(X, degrees):\n",
    "    newX = np.zeros((X.shape[0], degrees**2))\n",
    "    for i in range(1, degrees+1, 1):\n",
    "        for j in range(0, i+1):\n",
    "            newX[:, i+j] = (X[:, 0] ** (i-j)) * (X[:, 1]**j)\n",
    "    return newX"
   ]
  },
  {
   "cell_type": "code",
   "execution_count": 408,
   "id": "efe3099c-0bd6-444d-afee-8eff9bf3f386",
   "metadata": {},
   "outputs": [
    {
     "data": {
      "text/plain": [
       "(118, 36)"
      ]
     },
     "execution_count": 408,
     "metadata": {},
     "output_type": "execute_result"
    }
   ],
   "source": [
    "Xnew = create_polynom(X, 6)\n",
    "Xnew.shape"
   ]
  },
  {
   "cell_type": "code",
   "execution_count": 409,
   "id": "94c597c5-7e2b-4eb4-aede-b53cbd8b6833",
   "metadata": {},
   "outputs": [],
   "source": [
    "alpha = 0.01\n",
    "lamb = 1 # no regularization here\n",
    "num_iterations = 10000\n",
    "n = Xnew.shape[1]\n",
    "theta = np.zeros((n, 1))"
   ]
  },
  {
   "cell_type": "code",
   "execution_count": 410,
   "id": "6f7d9a45-6e69-4b86-a982-749a99ff5abb",
   "metadata": {},
   "outputs": [],
   "source": [
    "yreshaped = y.reshape((y.size, 1))"
   ]
  },
  {
   "cell_type": "code",
   "execution_count": 411,
   "id": "21f5f894-c04d-4b6d-bd40-521f43fae7be",
   "metadata": {},
   "outputs": [
    {
     "name": "stdout",
     "output_type": "stream",
     "text": [
      "(10000,) ; (10000, 36, 1)\n"
     ]
    },
    {
     "name": "stderr",
     "output_type": "stream",
     "text": [
      "/tmp/ipykernel_11589/3400290525.py:3: RuntimeWarning: overflow encountered in exp\n",
      "  return 1 / (1 + np.exp(-x))\n",
      "/tmp/ipykernel_11589/922905705.py:15: RuntimeWarning: divide by zero encountered in log\n",
      "  cost = (-1/m) * ((y.T @ np.log(sigmoid(X@theta))) + (1-y).T @ np.log(1 - sigmoid(X@theta))) + \\\n",
      "/tmp/ipykernel_11589/922905705.py:15: RuntimeWarning: invalid value encountered in matmul\n",
      "  cost = (-1/m) * ((y.T @ np.log(sigmoid(X@theta))) + (1-y).T @ np.log(1 - sigmoid(X@theta))) + \\\n"
     ]
    }
   ],
   "source": [
    "costs, thetas = run_gradient(lamb, alpha, num_iterations, theta, Xnew, yreshaped)\n",
    "print(costs.shape, thetas.shape, sep=' ; ')"
   ]
  }
 ],
 "metadata": {
  "kernelspec": {
   "display_name": "Python 3 (ipykernel)",
   "language": "python",
   "name": "python3"
  },
  "language_info": {
   "codemirror_mode": {
    "name": "ipython",
    "version": 3
   },
   "file_extension": ".py",
   "mimetype": "text/x-python",
   "name": "python",
   "nbconvert_exporter": "python",
   "pygments_lexer": "ipython3",
   "version": "3.10.4"
  }
 },
 "nbformat": 4,
 "nbformat_minor": 5
}
