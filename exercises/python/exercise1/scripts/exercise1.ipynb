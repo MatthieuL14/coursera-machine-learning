{
 "cells": [
  {
   "cell_type": "markdown",
   "id": "a36a2ed9-4bf6-4b9a-87c7-4c7db8508091",
   "metadata": {},
   "source": [
    "# Librairies and configuration"
   ]
  },
  {
   "cell_type": "code",
   "execution_count": 306,
   "id": "e147f6e1-3262-49ff-866e-6ab65e010261",
   "metadata": {},
   "outputs": [],
   "source": [
    "import numpy as np\n",
    "import pathlib\n",
    "import matplotlib.pyplot as plt\n",
    "from sklearn.linear_model import LinearRegression"
   ]
  },
  {
   "cell_type": "code",
   "execution_count": 307,
   "id": "38dacd24-6f9a-42f3-b5ad-cec45c4bb2e4",
   "metadata": {},
   "outputs": [],
   "source": [
    "%config InteractiveShell.ast_node_interactivity = 'last'"
   ]
  },
  {
   "cell_type": "markdown",
   "id": "3756bad9-242a-46e8-a2d7-01f8f50e2fd5",
   "metadata": {},
   "source": [
    "# Linear regression with one variable\n",
    "\n",
    "We are the CEO of a restaurant franchise and are considering different cities for opening a new outlet. We have data for profits and populations from cities in which we are already active. We would like to predict profits of new cities based on their population."
   ]
  },
  {
   "cell_type": "markdown",
   "id": "b91ec445-5c63-4745-996d-7ef140d8a787",
   "metadata": {},
   "source": [
    "## Loading required librairies"
   ]
  },
  {
   "cell_type": "code",
   "execution_count": 308,
   "id": "e8c6ed38-a77c-4f23-9a5e-f006273bd1fe",
   "metadata": {},
   "outputs": [],
   "source": [
    "import numpy as np\n",
    "import pathlib"
   ]
  },
  {
   "cell_type": "markdown",
   "id": "3fd18c5a-f76a-405f-866a-b8e3dc48bc18",
   "metadata": {},
   "source": [
    "## Loading the data"
   ]
  },
  {
   "cell_type": "code",
   "execution_count": 309,
   "id": "39d46622-1150-4388-af78-40931849db2f",
   "metadata": {},
   "outputs": [],
   "source": [
    "path = pathlib.Path.cwd()\n",
    "data_path = path.parent / 'data'\n",
    "filepath = data_path / 'ex1data1.txt'"
   ]
  },
  {
   "cell_type": "code",
   "execution_count": 310,
   "id": "89e53c12-c398-4a50-896b-2aef25091a2c",
   "metadata": {},
   "outputs": [],
   "source": [
    "data = np.loadtxt(filepath, delimiter=',', encoding='latin1')\n",
    "population = data[:, 0]\n",
    "profit = data[:, 1]"
   ]
  },
  {
   "cell_type": "markdown",
   "id": "c8d230ca-c3e7-4cff-8e6b-ea6bd105643e",
   "metadata": {},
   "source": [
    "## Plotting the data"
   ]
  },
  {
   "cell_type": "code",
   "execution_count": 311,
   "id": "f656ae06-006f-4b8d-b27a-e0aea1f29869",
   "metadata": {},
   "outputs": [
    {
     "data": {
      "image/png": "[encoded data removed]",
      "text/plain": [
       "<Figure size 432x288 with 1 Axes>"
      ]
     },
     "metadata": {
      "needs_background": "light"
     },
     "output_type": "display_data"
    }
   ],
   "source": [
    "fig, ax = plt.subplots()\n",
    "ax.scatter(population, profit, color='red', marker='x')\n",
    "ax.set_xlabel('Population of City in 10,000s')\n",
    "ax.set_ylabel('Profit in $10,000s')\n",
    "ax.set_title('Figure 1: Scatter plot of training data')\n",
    "plt.show()"
   ]
  },
  {
   "cell_type": "markdown",
   "id": "ba663b5d-f4f9-4f9d-a8d2-e7b6fcf19096",
   "metadata": {},
   "source": [
    "## Gradient descent"
   ]
  },
  {
   "cell_type": "markdown",
   "id": "7096b13f-cb79-4366-855a-e2a659e125f2",
   "metadata": {},
   "source": [
    "Our hypothesis here is the following\n",
    "\n",
    "$$h_{\\theta}(x^{i}) = \\sum \\limits _{k=0} ^{n} \\theta_{k} * x_{k}^{i} $$\n",
    "\n",
    "where:\n",
    "\n",
    "+ $n$ is the number of features (only 1 here)\n",
    "+ $x_{0}$ is equal to 1 to easily use matrix notations. \n",
    "\n",
    "Our cost function here is gonna be half the mean of the sum of squared error:\n",
    "\n",
    "$$J(\\theta) = \\frac{1}{2m} * \\sum \\limits _{i=1} ^{m} \\left( h_{\\theta}(x^{i}) - y^{i} \\right)^{2}$$\n",
    "\n",
    "where:\n",
    "\n",
    "+ $m$ is the number of examples in our training set (here 97)\n",
    "+ $\\theta$ is the vector of parameters we try to estimate\n",
    "\n",
    "In matrix notation, we can simplify above expressions as follows\n",
    "\n",
    "$$h_{\\theta}(x^{i}) = (x^{i})^{T} * \\theta$$\n",
    "\n",
    "$$J(\\theta) = \\frac{1}{2m} * \\left(X\\theta - \\textbf{y}\\right)^{T} * \\left(X\\theta - \\textbf{y}\\right) $$\n",
    "\n",
    "where:\n",
    "\n",
    "+ $X$ is the design matrix (a column of 1s and then each example in rows)\n",
    "\n",
    "Using matrix derivation, the gradient descent equation in matrix form can be written as\n",
    "\n",
    "$$\\theta = \\theta - \\alpha * \\frac{1}{m}*X^{T}\\left(X\\theta - \\textbf{y}\\right)$$\n",
    "\n",
    "where\n",
    "\n",
    "+ $\\alpha$ is the learning rate"
   ]
  },
  {
   "cell_type": "code",
   "execution_count": 278,
   "id": "69a71cce-3e11-4a83-89d4-150f00dffa22",
   "metadata": {},
   "outputs": [],
   "source": [
    "def sse(theta, X, y):\n",
    "    '''\n",
    "    Inputs\n",
    "        theta: vector of parameters\n",
    "        X: design matix (column of 1s then each training example in rows)\n",
    "        y: vector of outputs\n",
    "    Output\n",
    "        returns the value of half the mean of the sum of squared error (1/2m * SSE)\n",
    "    '''\n",
    "    m = y.size\n",
    "    tmp = (X@theta - y)\n",
    "    return (1/2*m) * (tmp.T @ tmp)"
   ]
  },
  {
   "cell_type": "code",
   "execution_count": 279,
   "id": "b8e97b91-94dc-4f9a-8e64-dbf1e1e295dc",
   "metadata": {},
   "outputs": [],
   "source": [
    "def gradient(theta, X, y, alpha):\n",
    "    m = y.size\n",
    "    theta = theta - alpha * (1/m) * X.T @ (X@theta - y)\n",
    "    return theta"
   ]
  },
  {
   "cell_type": "code",
   "execution_count": 280,
   "id": "49422017-d3d0-40ba-a91e-cf6e5b77ea85",
   "metadata": {},
   "outputs": [],
   "source": [
    "ones = np.ones(population.size)\n",
    "X = np.stack([ones, population], axis=1)"
   ]
  },
  {
   "cell_type": "code",
   "execution_count": 281,
   "id": "da3c4323-97fc-43ef-9919-c847cdbb0b5e",
   "metadata": {},
   "outputs": [],
   "source": [
    "y = profit"
   ]
  },
  {
   "cell_type": "code",
   "execution_count": 282,
   "id": "5db4981e-a923-44c7-bf9d-c0ba060f143c",
   "metadata": {},
   "outputs": [],
   "source": [
    "# Parameters\n",
    "iterations = 10000\n",
    "alpha = 0.01\n",
    "theta = np.array([0, 1])"
   ]
  },
  {
   "cell_type": "code",
   "execution_count": 283,
   "id": "9d5916ca-944e-4856-86cd-d4e873dd2919",
   "metadata": {},
   "outputs": [],
   "source": [
    "# Running the gradient descent\n",
    "i=0\n",
    "theta_history = list()\n",
    "cost_history = list()\n",
    "while i <= iterations:\n",
    "    J = sse(theta, X, y)\n",
    "    cost_history.append(J)\n",
    "    theta_history.append(theta)\n",
    "    theta = gradient(theta, X, y, alpha)\n",
    "    i += 1"
   ]
  },
  {
   "cell_type": "code",
   "execution_count": 284,
   "id": "420afbb1-5939-41a9-84e0-da3610c04435",
   "metadata": {},
   "outputs": [
    {
     "data": {
      "image/png": "[encoded data removed]",
      "text/plain": [
       "<Figure size 432x288 with 1 Axes>"
      ]
     },
     "metadata": {
      "needs_background": "light"
     },
     "output_type": "display_data"
    }
   ],
   "source": [
    "# Plot\n",
    "fig, ax = plt.subplots()\n",
    "x = np.arange(0, len(cost_history), 1)\n",
    "ax.plot(x, cost_history)\n",
    "ax.set_xlabel('Number of iterations')\n",
    "ax.set_ylabel('SSE')\n",
    "ax.set_title('Figure 1: J(theta) value over time')\n",
    "plt.show()"
   ]
  },
  {
   "cell_type": "code",
   "execution_count": 285,
   "id": "a6c48e63-9b38-474d-8d05-1c6ed6807933",
   "metadata": {},
   "outputs": [
    {
     "data": {
      "text/plain": [
       "array([-3.89578082,  1.19303364])"
      ]
     },
     "execution_count": 285,
     "metadata": {},
     "output_type": "execute_result"
    }
   ],
   "source": [
    "# Value of theta\n",
    "theta_history[-1]"
   ]
  },
  {
   "cell_type": "markdown",
   "id": "d129a491-4f6d-47f2-84c8-872c3fdf816e",
   "metadata": {},
   "source": [
    "## Predictions\n",
    "\n",
    "Let use our final value for $\\theta$ to make predictions on profits in areas of 35,000 and 70,000 people."
   ]
  },
  {
   "cell_type": "code",
   "execution_count": 286,
   "id": "d4d2b4dc-12cf-4ad3-ba78-dd6a8ccbec8b",
   "metadata": {},
   "outputs": [
    {
     "data": {
      "text/plain": [
       "array([0.27983691, 4.45545465])"
      ]
     },
     "execution_count": 286,
     "metadata": {},
     "output_type": "execute_result"
    }
   ],
   "source": [
    "final_theta = theta_history[-1]\n",
    "X_new = np.array([[1, 3.5], [1, 7]])\n",
    "predictions = X_new @ final_theta\n",
    "predictions"
   ]
  },
  {
   "cell_type": "markdown",
   "id": "9bcf69d0-d6d1-4ddd-bddd-7b675f3da5f1",
   "metadata": {},
   "source": [
    "+ City of 35,000 people is predicted to offer \\$2 798.36 profit\n",
    "+ City of 70,000 people is predicted to offer \\$44 554.55 profit"
   ]
  },
  {
   "cell_type": "markdown",
   "id": "f402620e-1b5a-40ba-94b9-33a87fca653c",
   "metadata": {},
   "source": [
    "## Normal equation\n",
    "\n",
    "We can solve directly through matrix calculus the global minimum of the SSE function.\n",
    "\n",
    "$$\\theta^{*} =(X^{T}X)^{-1}X^{T}y$$ "
   ]
  },
  {
   "cell_type": "code",
   "execution_count": 287,
   "id": "e8ac7c4b-0f47-4d47-b6fe-8fad56994cb7",
   "metadata": {},
   "outputs": [],
   "source": [
    "def normal(X, y):\n",
    "    return np.linalg.pinv(X.T@X) @ X.T @ y"
   ]
  },
  {
   "cell_type": "code",
   "execution_count": 288,
   "id": "ce7c903b-82d5-4db4-9ac6-8d8dd4d038a2",
   "metadata": {},
   "outputs": [
    {
     "data": {
      "text/plain": [
       "array([-3.89578088,  1.19303364])"
      ]
     },
     "execution_count": 288,
     "metadata": {},
     "output_type": "execute_result"
    }
   ],
   "source": [
    "final_theta2 = normal(X, y)\n",
    "final_theta2"
   ]
  },
  {
   "cell_type": "code",
   "execution_count": 289,
   "id": "d65fdc41-116a-463b-9b47-8d0fbe93ca08",
   "metadata": {},
   "outputs": [
    {
     "data": {
      "text/plain": [
       "array([-3.89578082,  1.19303364])"
      ]
     },
     "execution_count": 289,
     "metadata": {},
     "output_type": "execute_result"
    }
   ],
   "source": [
    "final_theta"
   ]
  },
  {
   "cell_type": "markdown",
   "id": "d2da01c9-8a63-49b0-bc75-4b1ad4301bbf",
   "metadata": {},
   "source": [
    "## Using sklearn"
   ]
  },
  {
   "cell_type": "markdown",
   "id": "33969dec-2211-4a86-a62e-9d09286e40c2",
   "metadata": {},
   "source": [
    "+ 1d-array.reshape(-1, 1) ==> array.size * 1 matrix i.e. classic column vector\n",
    "+ equivalent  to 1d-array[:, np.newaxis]"
   ]
  },
  {
   "cell_type": "code",
   "execution_count": 290,
   "id": "729adf89-f605-4f50-87df-18ebeaf0d2f6",
   "metadata": {},
   "outputs": [],
   "source": [
    "reg = LinearRegression().fit(population.reshape(-1, 1), profit)"
   ]
  },
  {
   "cell_type": "code",
   "execution_count": 291,
   "id": "dd7e1f71-9c1b-4fcf-9501-1b3c6e44cfe0",
   "metadata": {},
   "outputs": [
    {
     "data": {
      "text/plain": [
       "-3.8957808783118484"
      ]
     },
     "execution_count": 291,
     "metadata": {},
     "output_type": "execute_result"
    }
   ],
   "source": [
    "reg.intercept_"
   ]
  },
  {
   "cell_type": "code",
   "execution_count": 292,
   "id": "1e2fe346-152e-4f8b-982f-25ccc0601960",
   "metadata": {},
   "outputs": [
    {
     "data": {
      "text/plain": [
       "array([1.19303364])"
      ]
     },
     "execution_count": 292,
     "metadata": {},
     "output_type": "execute_result"
    }
   ],
   "source": [
    "reg.coef_"
   ]
  },
  {
   "cell_type": "code",
   "execution_count": 293,
   "id": "3e741953-f499-4af4-a943-45ad70fc5bef",
   "metadata": {},
   "outputs": [],
   "source": [
    "X_new2 = np.array([[3.5], [7]])"
   ]
  },
  {
   "cell_type": "code",
   "execution_count": 294,
   "id": "5f23f1e3-dcf0-4284-a98d-e53a2c402969",
   "metadata": {},
   "outputs": [
    {
     "data": {
      "text/plain": [
       "array([0.27983688, 4.45545463])"
      ]
     },
     "execution_count": 294,
     "metadata": {},
     "output_type": "execute_result"
    }
   ],
   "source": [
    "reg.predict(X_new2)"
   ]
  },
  {
   "cell_type": "markdown",
   "id": "27570f53-b1ba-4d1d-8f10-895ecf221146",
   "metadata": {},
   "source": [
    "# Multivariate linear regression\n",
    "\n",
    "Same stuff because we already worked with matrices, just change the inputs"
   ]
  },
  {
   "cell_type": "code",
   "execution_count": 295,
   "id": "4db7bb1e-61f8-4bfe-8125-8bc709bfb8cd",
   "metadata": {},
   "outputs": [],
   "source": [
    "filepath = data_path / 'ex1data2.txt'\n",
    "data = np.loadtxt(filepath, delimiter=',', encoding='latin1')"
   ]
  },
  {
   "cell_type": "code",
   "execution_count": 296,
   "id": "623a13fb-3eb0-4611-861a-cf92dc492be6",
   "metadata": {},
   "outputs": [],
   "source": [
    "xs = data[:, 0:2]\n",
    "y = data[:, 2]"
   ]
  },
  {
   "cell_type": "code",
   "execution_count": 297,
   "id": "abf62856-e3b9-4775-855e-056a5f6fa464",
   "metadata": {},
   "outputs": [],
   "source": [
    "# Normalize the features\n",
    "x_mean = np.repeat(xs.mean(axis=0).reshape(1, 2), xs.shape[0], axis=0)\n",
    "x_sd = np.repeat(xs.std(axis=0).reshape(1, 2), xs.shape[0], axis=0)\n",
    "xs_norm = (xs - x_means) / x_sd"
   ]
  },
  {
   "cell_type": "code",
   "execution_count": 298,
   "id": "da7a2aeb-7eb4-4b37-b596-6ad90b7ad0b2",
   "metadata": {},
   "outputs": [],
   "source": [
    "ones = np.ones((y.size, 1))\n",
    "X = np.concatenate([ones, xs_norm], axis=1)"
   ]
  },
  {
   "cell_type": "code",
   "execution_count": 299,
   "id": "8c115f2e-cde6-4bcc-9340-15a5db4083f9",
   "metadata": {},
   "outputs": [],
   "source": [
    "alpha = 0.001\n",
    "iterations = 100000\n",
    "theta = np.ones(X.shape[1])"
   ]
  },
  {
   "cell_type": "code",
   "execution_count": 300,
   "id": "b0a87e6e-43ee-4a25-9434-0d75d8361225",
   "metadata": {},
   "outputs": [],
   "source": [
    "# Running the gradient descent\n",
    "i=0\n",
    "theta_history = list()\n",
    "cost_history = list()\n",
    "while i <= iterations:\n",
    "    J = sse(theta, X, y)\n",
    "    cost_history.append(J)\n",
    "    theta_history.append(theta)\n",
    "    theta = gradient(theta, X, y, alpha)\n",
    "    i += 1"
   ]
  },
  {
   "cell_type": "code",
   "execution_count": 301,
   "id": "55d8ee11-a620-4c05-90ae-42643faf60a7",
   "metadata": {},
   "outputs": [
    {
     "data": {
      "image/png": "[encoded data removed]",
      "text/plain": [
       "<Figure size 432x288 with 1 Axes>"
      ]
     },
     "metadata": {
      "needs_background": "light"
     },
     "output_type": "display_data"
    }
   ],
   "source": [
    "# Plot\n",
    "fig, ax = plt.subplots()\n",
    "x = np.arange(0, len(cost_history), 1)\n",
    "ax.plot(x, cost_history)\n",
    "ax.set_xlabel('Number of iterations')\n",
    "ax.set_ylabel('SSE')\n",
    "ax.set_title('Figure 1: J(theta) value over time')\n",
    "plt.show()"
   ]
  },
  {
   "cell_type": "code",
   "execution_count": 302,
   "id": "ab75a817-320c-4fe2-ad3e-fcdcbacf9ef2",
   "metadata": {},
   "outputs": [
    {
     "data": {
      "text/plain": [
       "array([340412.65957444, 109447.79646963,  -6578.35485415])"
      ]
     },
     "execution_count": 302,
     "metadata": {},
     "output_type": "execute_result"
    }
   ],
   "source": [
    "final_theta1 = theta_history[-1]\n",
    "final_theta1"
   ]
  },
  {
   "cell_type": "markdown",
   "id": "0730c159-17bd-4842-81b4-186003f7c52f",
   "metadata": {},
   "source": [
    "## Prediction\n",
    "Predict the price of a house with 1650 square feet and 3 bedrooms"
   ]
  },
  {
   "cell_type": "code",
   "execution_count": 303,
   "id": "d5e95a50-bef4-4f8c-83ed-fb488ac23417",
   "metadata": {},
   "outputs": [],
   "source": [
    "X_new = np.array([[1, 1650, 3]], dtype=float)\n",
    "mean1, mean2 = np.mean(xs, axis=0)\n",
    "sd1, sd2 = np.std(xs, axis=0)\n",
    "X_new[0, 1] = (X_new[0, 1] - mean1) / sd1\n",
    "X_new[0, 2] = (X_new[0, 2] - mean2) / sd2"
   ]
  },
  {
   "cell_type": "code",
   "execution_count": 304,
   "id": "1123faa0-738d-42e9-a868-3b4c73a2cc89",
   "metadata": {},
   "outputs": [
    {
     "data": {
      "text/plain": [
       "array([293081.46433487])"
      ]
     },
     "execution_count": 304,
     "metadata": {},
     "output_type": "execute_result"
    }
   ],
   "source": [
    "prediction = X_new @ final_theta1\n",
    "prediction"
   ]
  },
  {
   "cell_type": "markdown",
   "id": "17b457e0-4472-40a5-a64d-c4d036fd2965",
   "metadata": {},
   "source": [
    "## Scikit learn"
   ]
  },
  {
   "cell_type": "code",
   "execution_count": 305,
   "id": "658edc58-255e-4439-b90b-98287584ae4b",
   "metadata": {},
   "outputs": [
    {
     "data": {
      "text/plain": [
       "array([293081.4643349])"
      ]
     },
     "execution_count": 305,
     "metadata": {},
     "output_type": "execute_result"
    }
   ],
   "source": [
    "reg = LinearRegression().fit(xs, y)\n",
    "reg.predict(np.array([[1650, 3]]))"
   ]
  }
 ],
 "metadata": {
  "kernelspec": {
   "display_name": "Python 3 (ipykernel)",
   "language": "python",
   "name": "python3"
  },
  "language_info": {
   "codemirror_mode": {
    "name": "ipython",
    "version": 3
   },
   "file_extension": ".py",
   "mimetype": "text/x-python",
   "name": "python",
   "nbconvert_exporter": "python",
   "pygments_lexer": "ipython3",
   "version": "3.10.4"
  }
 },
 "nbformat": 4,
 "nbformat_minor": 5
}
